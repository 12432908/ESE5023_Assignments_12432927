{
 "cells": [
  {
   "cell_type": "markdown",
   "metadata": {},
   "source": [
    "这个单元格给助教，请忽略!\n",
    "\n",
    "### Score:\n",
    "\n",
    "### Comment: \n",
    "\n",
    "请实现每个 function 内容，确保最终提交的notebook是可以运行的。\n",
    "\n",
    "每一题除了必须要报告的 输出/图表，可以添加解释（中文即可）。此外可以自定义其他 function / 变量，自由添加单元格，但请确保题目中给出的 function （如第一题的 Print_values）可以正常调用。"
   ]
  },
  {
   "cell_type": "markdown",
   "metadata": {},
   "source": [
    "**Collaboration:**  \n",
    "\n",
    "Collaboration on solving the assignment is allowed, after you have thought about the problem sets on your own. It is also OK to get clarification (but not solutions) from online resources, again after you have thought about the problem sets on your own. \n",
    "\n",
    "There are two requirements for collaboration: \n",
    "\n",
    "* Cite your collaborators **fully and completely** (*e.g.*, \"XXX explained to me what is asked in problem set 3\"). Or cite online resources (*e.g.*, \"I got inspired by reading XXX\") that helped you.\n",
    "\n",
    "* Write your scripts and report **independently** - the scripts and report must come from you only."
   ]
  },
  {
   "cell_type": "markdown",
   "metadata": {},
   "source": [
    "# 1. Flowchart \n",
    "\n",
    "Write a function `Print_values` with arguments `a`, `b`, and `c` to reflect the following flowchart. Here the purple parallelogram operator on a list `[x, y, z]` is to compute and print `x+y-10z`. Try your output with some random `a`, `b`, and `c` values. Report your output when `a = 10, b = 5, c = 1`."
   ]
  },
  {
   "cell_type": "code",
   "execution_count": 5,
   "metadata": {},
   "outputs": [
    {
     "name": "stdout",
     "output_type": "stream",
     "text": [
      "最终结果是：5\n"
     ]
    }
   ],
   "source": [
    "# 1.Fowchat\n",
    "\n",
    "# 根据流程图定义排序函数\n",
    "def print_value(a, b, c):\n",
    "    # 使用if条件语句实现变量大小比较\n",
    "    if a > b:\n",
    "        if b > c:\n",
    "            # 用变量value_list接收列表\n",
    "            value_list = [a,b,c]\n",
    "        elif a > c:\n",
    "            # 同上，value_list接收变量\n",
    "            value_list = [a,c,b]\n",
    "        else:\n",
    "            value_list = [c,a,b]\n",
    "    elif b > c:\n",
    "        if a > c:\n",
    "            value_list = [b,a,c]\n",
    "        else:\n",
    "            value_list = [b,c,a]\n",
    "    else:\n",
    "        value_list = [c,b,a]\n",
    "    \n",
    "    # 最终输出结果公式:x+y-10z\n",
    "    final_result = value_list[0] + value_list[1] - 10*value_list[2]\n",
    "    return final_result\n",
    "    \n",
    "final_result = print_value(10, 5,1)\n",
    "print(f'最终结果是：{final_result}')\n"
   ]
  },
  {
   "cell_type": "markdown",
   "metadata": {},
   "source": [
    "### 最终结果\n",
    "Report your output when `a = 10, b = 5, c = 1`: `5`"
   ]
  },
  {
   "cell_type": "markdown",
   "metadata": {},
   "source": [
    "### **第一题解释**\n",
    "1. 首先想到用if条件语句进行解答，然后发现题干中要求利用列表进行计算。\n",
    "2. 写出初版程序后，发现每判断一次就要打印一遍公式，代码冗余，于是我将计算公式放在if语句之外，整个if语句只输出一个列表。\n",
    "3. 最后对列表中的值进行计算，得到最终的结果。"
   ]
  },
  {
   "cell_type": "markdown",
   "metadata": {},
   "source": [
    "# 2. Continuous ceiling function\n",
    "\n",
    "Given a list with `N` positive integers. For every element `x` of the list, find the value of continuous ceiling function defined as `F(x) = F(ceil(x/3)) + 2x`, where `F(1) = 1`. "
   ]
  },
  {
   "cell_type": "code",
   "execution_count": 10,
   "metadata": {},
   "outputs": [
    {
     "name": "stdout",
     "output_type": "stream",
     "text": [
      "[1, 5, 7, 13]\n"
     ]
    }
   ],
   "source": [
    "# 2. Continuous celing function\n",
    "# 导入math包，需要里面的ceil函数\n",
    "# ceil() 函数返回数字的上入整数,即向上取整\n",
    "import math\n",
    "\n",
    "# 定义连续天花板函数Continuous celing function 递归\n",
    "def ceil_function(x):\n",
    "    # 递归终止条件\n",
    "    if x == 1:\n",
    "        return 1  # 基础条件 F(1) = 1\n",
    "    \n",
    "    # 递归调用自身\n",
    "    # ceil() 函数返回数字的上入整数,即向上取整\n",
    "    return ceil_function(math.ceil(x / 3)) + 2 * x\n",
    "\n",
    "# 定义找到ceil值，传入变长参数args\n",
    "def find_ceil(*args):\n",
    "    # 定义空列表，用于接收变长参数的值\n",
    "    ceiling_value = []\n",
    "    \n",
    "    # 遍历args，分别用连续天花板函数其中的元素进行计算\n",
    "    for element in args:\n",
    "        # 将计算结果添加进列表\n",
    "        ceiling_value.append(ceil_function(element))\n",
    "        \n",
    "    # 输出最终的ceil值\n",
    "    print(ceiling_value)\n",
    "\n",
    "    \n",
    "find_ceil(1,2,3,4)"
   ]
  },
  {
   "cell_type": "markdown",
   "metadata": {},
   "source": [
    "### 最终结果\n",
    "给定一个列表`[1, 2, 3, 4]`\n",
    "\n",
    "得到的连续天花板函数值为`[1, 5, 7, 13]`"
   ]
  },
  {
   "cell_type": "markdown",
   "metadata": {},
   "source": [
    "### **第二题解释**\n",
    "通过查阅资料，得知ceil() 函数用于返回数字的上入整数。\n",
    "\n",
    "1. 导入math模块\n",
    "2. 定义递归的连续天花板函数`ceil_function`:在 `x != 1` 时，函数递归地调用自身，将输入 `x` 通过 `math.ceil(x / 3)` 进行处理，即对 `x` 除以 `3` 后进行向上取整，然后加上 `2 * x`。\n",
    "这个递归调用的过程会一直进行，直到 x 的值递归到 1 为止。\n",
    "4. 定义`find_ceil函数`\n",
    "使用变长参数`*args`实现函数接受不定数量的的参数\n",
    "最后打印输出计算的天花板值列表。\n",
    " \n"
   ]
  },
  {
   "cell_type": "markdown",
   "metadata": {},
   "source": [
    "# 3. Dice rolling\n",
    "\n",
    "**3.1** Given `10` dice each with `6` faces, numbered from `1` to `6`. Write a function `Find_number_of_ways` to find the number of ways to get sum `x`, defined as the sum of values on each face when all the dice are thrown."
   ]
  },
  {
   "cell_type": "code",
   "execution_count": 12,
   "metadata": {},
   "outputs": [
    {
     "name": "stdout",
     "output_type": "stream",
     "text": [
      "投10个骰子，总和为20的方案数：85228\n"
     ]
    }
   ],
   "source": [
    "# 3.Dice rolling\n",
    "# 3.1\n",
    "def Find_number_of_ways(num_of_dice):\n",
    "    # 初始化二维数组 Number_of_ways，大小为 (num_of_dices + 1 x 6 * num_of_dices + 1)，所有元素初始化为 0\n",
    "    # 这个数组用于接收所有骰子总和的方案数\n",
    "    Number_of_ways = []\n",
    "    for i in range(num_of_dice + 1):\n",
    "        Number_of_ways_row = []\n",
    "        for j in range(num_of_dice * 6 + 1):\n",
    "            Number_of_ways_row.append(0)\n",
    "        Number_of_ways.append(Number_of_ways_row)\n",
    "        \n",
    "    # 设置边界条件，为递推公式的初始项做准备\n",
    "    # 边界条件1：没有骰子且总和为0的情况有一种解法（什么都不做）\n",
    "    Number_of_ways[0][0] = 1\n",
    "    \n",
    "    # 边界条件2：当只有一个骰子时，1到6的总和各有一种组合方式\n",
    "    for s in range(1, 7):\n",
    "        Number_of_ways[1][s] = 1\n",
    "    \n",
    "    # 递推公式\n",
    "    for d in range(2, num_of_dice + 1):\n",
    "        for s in range(num_of_dice * 6 + 1):\n",
    "            # # d个骰子和的组合数，可以从d-1骰子的组合数中得到，例如当d = 1时，和为1-6的组合数都是1；当d=2时，和为\n",
    "            # Number_of_ways[d][s] = Number_of_ways[d-1][s-1] + Number_of_ways[d-1][s-2] + \n",
    "            # Number_of_ways[d-1][s-3] + Number_of_ways[d-1][s-4] + Number_of_ways[d-1][s-5] + Number_of_ways[d-1][s-6]\n",
    "            for value_dice in range(1, 7):  # 当前骰子可能的结果是 1 到 6\n",
    "                if s - value_dice >= 0:  # 确保索引合法\n",
    "                    Number_of_ways[d][s] += Number_of_ways[d-1][s-value_dice]\n",
    "    \n",
    "    return Number_of_ways\n",
    "\n",
    "Number_of_ways_test = Find_number_of_ways(10)\n",
    "\n",
    "print(f'投10个骰子，总和为20的方案数：{Number_of_ways_test[10][20]}')"
   ]
  },
  {
   "cell_type": "markdown",
   "metadata": {},
   "source": [
    "### 最终结果\n",
    "投`10`个骰子，总和为`20`的方案数：`85228`"
   ]
  },
  {
   "cell_type": "markdown",
   "metadata": {},
   "source": [
    "**3.2** Count the number of ways for any `x` from `10` to `60`, assign the number of ways to a list called `Number_of_ways`, so which `x` yields the maximum of `Number_of_ways`?"
   ]
  },
  {
   "cell_type": "code",
   "execution_count": 13,
   "metadata": {},
   "outputs": [
    {
     "name": "stdout",
     "output_type": "stream",
     "text": [
      "投10个骰子时，总和为35的方案数最大，方案数为4395456\n"
     ]
    }
   ],
   "source": [
    "# 3.2\n",
    "# 在方案数二维数组中找到最大方案数的总和及其索引\n",
    "max_value = max(Number_of_ways_test[10])\n",
    "max_index = Number_of_ways_test[10].index(max_value)\n",
    "\n",
    "# 输出最终结果\n",
    "print(f'投10个骰子时，总和为{max_index}的方案数最大，方案数为{max_value}')\n",
    "\n",
    "# 结果:10个骰子时，总和为35的方案数最大，方案数为4395456"
   ]
  },
  {
   "cell_type": "markdown",
   "metadata": {},
   "source": [
    "### 最终结果\n",
    "So which `x` yields the maximum of `Number_of_ways`? `[35]`"
   ]
  },
  {
   "cell_type": "markdown",
   "metadata": {},
   "source": [
    "### **第三题解释**\n",
    "#### 3.1\n",
    "使用动态规划解决问题。\n",
    "\n",
    "`动态规划`（Dynamic Programming, 简称DP）是一种将复杂问题分解成较小的子问题，并通过记忆子问题的结果来避免重复计算的算法技巧。它的核心思想是 `“分而治之 + 记忆化”`。\n",
    "source：https://zhuanlan.zhihu.com/p/365698607\n",
    "\n",
    "实现该问题大致分为3步:\n",
    "1. 初始化二维数组\n",
    "2. 设置边界条件:\n",
    "    - 边界条件1：没有骰子且总和为0的情况有一种解法（什么都不做）\n",
    "`dp[0][0] = 1`\n",
    "    - 边界条件2：当只有一个骰子时，1到6的总和各有一种组合方式\n",
    "3. 递推公式:\n",
    "    - d个骰子和的组合数，可以从d-1骰子的组合数中得到，递推公式可以表示为：\n",
    "`dp[d][s] = dp[d-1][s-1] + dp[d-1][s-2] + dp[d-1][s-3] + dp[d-1][s-4] + dp[d-1][s-5] + dp[d-1][s-6]`\n",
    "    - 例如当`d=2`时，`dp[2][3] = dp[1][2] + dp[1][1]`\n",
    "意思是，想要用2个骰子投出总和为3的数，1个骰子总和为1时，第二个骰子应该投2，即`dp[1][2]`;同理，1个骰子投出2时，第二个应该是1，即`dp[1][1]`。\n",
    "\n",
    "#### 3.2\n",
    "在3.1的代码中已经创建了列表`Number_of_ways`\n",
    "\n",
    "这个列表是一个二维数组，当骰子的数量是10时，数组的大小是`10 ×61`\n",
    " - 行：骰子的数量；\n",
    " - 列：骰子总和的方案数\n",
    "对于这个问题，使用函数`max()`就可以找到最大方案数。"
   ]
  },
  {
   "cell_type": "markdown",
   "metadata": {},
   "source": [
    "# 4. Dynamic programming\n",
    "\n",
    "**4.1 [5 points]** Write a function `Random_integer` to fill an array of `N` elements by randomly selecting integers from `0` to `10`."
   ]
  },
  {
   "cell_type": "code",
   "execution_count": 15,
   "metadata": {},
   "outputs": [
    {
     "data": {
      "text/plain": [
       "[1, 5, 4, 5, 0, 9, 2, 9, 8, 3]"
      ]
     },
     "execution_count": 15,
     "metadata": {},
     "output_type": "execute_result"
    }
   ],
   "source": [
    "# 4. Dynamic programming\n",
    "# 4.1\n",
    "import random\n",
    "\n",
    "def Random_integer(N):\n",
    "    # 生成包含N个元素的数组，元素是0到10之间的随机整数\n",
    "    return [random.randint(0, 10) for _ in range(N)]\n",
    "\n",
    "# 生成一个N为10的数组作为示例\n",
    "N = 10\n",
    "random_array = Random_integer(N)\n",
    "\n",
    "random_array"
   ]
  },
  {
   "cell_type": "markdown",
   "metadata": {},
   "source": [
    "**4.2 [15 points]** Write a function `Sum_averages` to compute the sum of the average of all subsets of the array. For example, given an array of `[1, 2, 3]`, you `Sum_averages` function should compute the sum of: average of `[1]`, average of `[2]`, average of `[3]`,  average of `[1, 2]`, average of `[1, 3]`, average of `[2, 3]`, and average of `[1, 2, 3]`.  "
   ]
  },
  {
   "cell_type": "code",
   "execution_count": 16,
   "metadata": {},
   "outputs": [
    {
     "name": "stdout",
     "output_type": "stream",
     "text": [
      "14.0\n"
     ]
    }
   ],
   "source": [
    "# 4.2\n",
    "# 使用 itertools.combinations 函数生成当前长度 r 的所有子集。\n",
    "import itertools\n",
    "\n",
    "def Sum_averages(arr):\n",
    "    total_sum = 0\n",
    "    \n",
    "    # 生成所有子集\n",
    "    for r in range(1, len(arr) + 1):\n",
    "        for subset in itertools.combinations(arr, r):\n",
    "            total_sum += sum(subset) / len(subset)\n",
    "    \n",
    "    return total_sum\n",
    "\n",
    "arr = [1, 2, 3]\n",
    "sum_of_averages = Sum_averages(arr)\n",
    "\n",
    "print(sum_of_averages)  # 输出结果为 14.0"
   ]
  },
  {
   "cell_type": "markdown",
   "metadata": {},
   "source": [
    "**4.3 [5 points]** Call `Sum_averages` with `N` increasing from `1` to `100`, assign the output to a list called `Total_sum_averages`. Plot `Total_sum_averages`, describe what you see.\n"
   ]
  },
  {
   "cell_type": "code",
   "execution_count": 23,
   "metadata": {},
   "outputs": [
    {
     "data": {
      "image/png": "[encoded data removed]",
      "text/plain": [
       "<Figure size 640x480 with 1 Axes>"
      ]
     },
     "metadata": {},
     "output_type": "display_data"
    }
   ],
   "source": [
    "# 4.3\n",
    "import matplotlib.pyplot as plt\n",
    "def Sum_averages_v2(arr):\n",
    "    N = len(arr)\n",
    "    total_sum = 0\n",
    "    subset_count = 2**N - 1  # 所有非空子集的数量\n",
    "    \n",
    "    for i in range(N):\n",
    "        # 每个元素 arr[i] 在 2^(N-1) 个子集中出现\n",
    "        total_sum += arr[i] * (2**(N-1))  # 计算每个元素的贡献\n",
    "    \n",
    "    return total_sum / subset_count  # 计算平均值总和\n",
    "\n",
    "# 生成从1到100的数组，并为每个数组调用优化后的Sum_averages_optimized\n",
    "Total_sum_averages_v2 = []\n",
    "for N in range(1, 101):\n",
    "    arr = list(range(1, N + 1))  # 创建一个从1到N的数组\n",
    "    result = Sum_averages_v2(arr)\n",
    "    Total_sum_averages_v2.append(result)\n",
    "\n",
    "# 绘制优化后的Total_sum_averages_optimized\n",
    "plt.plot(range(1, 101), Total_sum_averages_v2)\n",
    "\n",
    "# x y轴名称，图表标题\n",
    "plt.xlabel('N (Size of Array)')\n",
    "plt.ylabel('Sum of Averages of All Subsets')\n",
    "plt.title('Sum of Averages of All Subsets for N=1 to 100')\n",
    "plt.show()\n"
   ]
  },
  {
   "cell_type": "markdown",
   "metadata": {},
   "source": [
    "### 最终结果\n",
    "Describe what you see. `[随着N增加，所有子集平均和的总和呈指数增长模式]`"
   ]
  },
  {
   "cell_type": "markdown",
   "metadata": {},
   "source": [
    "### **第四题解释**\n",
    "#### 4.1\n",
    "比较简单,使用`random.randint()函数`完成代码。\n",
    "#### 4.2\n",
    "针对这个问题，我使用 `itertools.combinations 函数`生成当前长度 `r` 的所有子集。\n",
    "\n",
    "再结合`sun()函数`和`len()函数`计算子集平均值。\n",
    "#### 4.3\n",
    "**最开始的思路：**\n",
    "1. 用`for循环`依次创建`1-100`的数组\n",
    "2. 分别计算这些数组的子集的平均值之和\n",
    "3. 再使用`ppend()`将结果添加到 `Total_sum_averages` 的列表中\n",
    "4. 最后再画图。\n",
    "但是，这个方法忽略了一点：生成所有子集并计算它们的平均值对于较大的N是非常耗时的，尤其是当 N 增大到 100 时，子集的组合数量呈指数级增长。(子集的数量：`2^N`)\n",
    "\n",
    "**优化后的思路**\n",
    "\n",
    "我们要计算一个数组中所有子集的平均值的总和。最直接的方法是生成所有可能的子集，计算每个子集的平均值，然后把这些平均值加起来。但是，随着数组的长度（N）增加，子集的数量会成倍增长，比如长度为N的数组有2^N个子集（包括空集）。当N很大时，这个方法会非常慢。\n",
    "\n",
    "所以我们需要想办法避免直接生成所有子集。\n",
    "1. 每个元素在子集中的“存在感”\n",
    "\n",
    "    想象一下，我们有一个数组，比如 `[1, 2, 3]`，我们要找到所有子集，然后计算平均值的总和。每个子集的平均值是子集中的所有元素加起来，除以子集的大小。\n",
    "\n",
    "    现在注意，每个元素在很多不同的子集中会出现。\n",
    "\n",
    "    每个元素到底在多少个子集中出现，它在这些子集中对平均值的贡献有多大？\n",
    "\n",
    "2. 每个元素出现的次数\n",
    "\n",
    "    如果我们仔细观察每个元素会出现在多少个子集中，会发现一个规律：\n",
    "\n",
    "   假设数组有N个元素，每个元素ai会出现在一半的子集中。为什么呢？因为对于一个元素来说，剩下的N-1个元素要么被选择，要么不被选择。所以每个元素ai出现在2^(N-1)个子集中。\n",
    "   > 举个例子：如果数组是 `[1, 2, 3]`，元素1会出现在`[1]、[1, 2]、[1, 3]、[1, 2, 3]`这四个子集中，而子集总数是`2^3 = 8`，所以1出现在`2^(3-1) = 4`个子集中。\n",
    "3. 元素对平均值的贡献\n",
    "    每次元素出现在某个子集中，它对这个子集的平均值的贡献是多少呢？答案是：元素的值除以子集的大小。\n",
    "   \n",
    "    假设我们有子集`[1, 2, 3]`，子集的平均值是`(1 + 2 + 3) / 3`。在这个平均值中，`1`对总结果的贡献是`1/3`，`2`的贡献是`2/3`，`3`的贡献是`3/3`。类似的，对于其他子集，每个元素都会有不同的贡献。\n",
    "   \n",
    "    因此，每个元素会在许多子集中出现，而每次出现，它都会对这些子集的平均值做出贡献。我们需要把这些贡献加起来。\n",
    "   \n",
    "**公式总结如下**\n",
    "\n",
    "$\\text{Sum of Averages} = \\frac{1}{2^N - 1} \\sum_{i=1}^N 2^{N-i} \\cdot a_i$\n",
    "\n",
    "最终代码如上所示。"
   ]
  },
  {
   "cell_type": "markdown",
   "metadata": {},
   "source": [
    "# 5. Path counting\n",
    "\n",
    "**5.1 [5 points]** Create a matrix with `N` rows and `M` columns, fill the right-bottom corner and top-left corner cells with `1`, and randomly fill the rest of matrix with integer `0` or `1`."
   ]
  },
  {
   "cell_type": "code",
   "execution_count": 24,
   "metadata": {},
   "outputs": [
    {
     "name": "stdout",
     "output_type": "stream",
     "text": [
      "[[1 1 0 1 1]\n",
      " [0 1 0 1 1]\n",
      " [0 1 1 0 1]\n",
      " [1 1 1 1 0]\n",
      " [0 0 1 0 1]]\n"
     ]
    }
   ],
   "source": [
    "# 5.1\n",
    "import numpy as np\n",
    "\n",
    "def create_matrix(N, M):\n",
    "    # 创建一个 N x M 的矩阵，元素随机为 0 或 1\n",
    "    matrix = np.random.randint(0, 2, (N, M))\n",
    "    \n",
    "    # 设置左上角和右下角的元素为 1\n",
    "    matrix[0, 0] = 1\n",
    "    matrix[N-1, M-1] = 1\n",
    "    \n",
    "    return matrix\n",
    "\n",
    "# 尝试生成一个 5x5 的矩阵\n",
    "N, M = 5, 5\n",
    "matrix = create_matrix(N, M)\n",
    "print(matrix)\n"
   ]
  },
  {
   "cell_type": "markdown",
   "metadata": {},
   "source": [
    "**5.2 [25 points]** Consider a cell marked with `0` as a blockage or dead-end, and a cell marked with `1` is good to go. Write a function `Count_path` to count the total number of paths to reach the right-bottom corner cell from the top-left corner cell. \n",
    "\n",
    "**Notice:** for a given cell, you are **only allowed** to move either rightward or downward."
   ]
  },
  {
   "cell_type": "code",
   "execution_count": 27,
   "metadata": {},
   "outputs": [
    {
     "name": "stdout",
     "output_type": "stream",
     "text": [
      "矩阵:\n",
      "[[1 1 0 1 1]\n",
      " [0 1 0 1 1]\n",
      " [0 1 1 0 1]\n",
      " [1 1 1 1 0]\n",
      " [0 0 1 0 1]]\n",
      "总路径数：9\n"
     ]
    }
   ],
   "source": [
    "# 5.2\n",
    "def count_paths(matrix):\n",
    "    N, M = matrix.shape  # 获取矩阵的行数和列数\n",
    "    \n",
    "    # 如果起点或终点是阻塞的（0），则无路可走\n",
    "    if matrix[0, 0] == 0 or matrix[N-1, M-1] == 0:\n",
    "        return 0\n",
    "    \n",
    "    # 创建一个同样大小的矩阵用于存储路径数\n",
    "    count_of_path = np.zeros((N, M), dtype=int)\n",
    "    \n",
    "    # 初始化起点\n",
    "    count_of_path[0, 0] = 1\n",
    "    \n",
    "    # 填充count_of_path矩阵\n",
    "    for i in range(N):\n",
    "        for j in range(M):\n",
    "            if matrix[i, j] == 1:\n",
    "                # 检查是否能从上方到达a\n",
    "                if i > 0 and matrix[i-1, j] == 1:\n",
    "                    count_of_path[i, j] += count_of_path[i-1, j]\n",
    "                # 检查是否能从左侧到达\n",
    "                if j > 0 and matrix[i, j-1] == 1:\n",
    "                    count_of_path[i, j] += count_of_path[i, j-1]\n",
    "    \n",
    "    # 返回到达右下角的路径数，如果不可达，则返回 0\n",
    "    return count_of_path[N-1, M-1]\n",
    "\n",
    "# 创建一个5x5的矩阵并尝试计算路径数\n",
    "N, M = 5, 5\n",
    "matrix_test = np.array([[1, 1, 1, 1, 0],\n",
    "                   [0, 1, 1, 1, 1],\n",
    "                   [0, 1, 1, 1, 1],\n",
    "                   [1, 0, 0, 0, 1],\n",
    "                   [0, 0, 1, 1, 1]])\n",
    "\n",
    "\n",
    "total_paths = count_paths(matrix_test)\n",
    "\n",
    "print(f'矩阵:\\n{matrix}')\n",
    "print(f'总路径数：{total_paths}')"
   ]
  },
  {
   "cell_type": "markdown",
   "metadata": {},
   "source": [
    "**5.3 [5 points]** Let `N = 10, M = 8`, run `Count_path` for `1000` times, each time the matrix (except the right-bottom corner and top-left corner cells, which remain being `1`) is re-filled with integer `0` or `1` randomly, report the mean of total number of paths from the `1000` runs."
   ]
  },
  {
   "cell_type": "code",
   "execution_count": 28,
   "metadata": {},
   "outputs": [
    {
     "name": "stdout",
     "output_type": "stream",
     "text": [
      "总路径平均数是：0.52\n"
     ]
    }
   ],
   "source": [
    "# 5.3创建一个一维数组用于接收路径数量\n",
    "total_average_paths = []\n",
    "# \n",
    "for i in range(1000):\n",
    "    # 创建10×8的随机数组\n",
    "    matrix10_8 = create_matrix(10, 8)\n",
    "    # 使用count_paths函数计算路径\n",
    "    paths = count_paths(matrix10_8)\n",
    "    # 将路径数量append数组里面\n",
    "    total_average_paths.append(paths)\n",
    "    # print(paths)\n",
    "    \n",
    "# 计算1000个路径数平均值\n",
    "average_paths = sum(total_average_paths) / len(total_average_paths)\n",
    "print(f'总路径平均数是：{average_paths}')"
   ]
  },
  {
   "cell_type": "markdown",
   "metadata": {},
   "source": [
    "### 最终结果\n",
    "Report the mean of total number of paths from the `1000` runs. `[0.52]`\n",
    "由于计算的是随机生成的矩阵，因此最终结果是不确定的。"
   ]
  },
  {
   "cell_type": "markdown",
   "metadata": {},
   "source": [
    "### 第五题解释\n",
    "#### 5.1\n",
    "使用`np.random.randint()函数`创建矩阵\n",
    "#### 5.2\n",
    "思路：\n",
    "对于每一个可以走的格子 `(i, j)`：\n",
    "- 如果能从上面来，就把上面格子的路径数加过来；\n",
    "- 如果能从左边来，就把左边格子的路径数加过来。\n",
    "最终，右下角格子的路径数 `dp[N-1][M-1]` 就是从左上角到右下角所有可能路径的总数。\n",
    "#### 5.3\n",
    "调用前两题的函数，使用`sum(list)/len(list)`计算路径数平均值"
   ]
  }
 ],
 "metadata": {
  "kernelspec": {
   "display_name": "Python 3 (ipykernel)",
   "language": "python",
   "name": "python3"
  },
  "language_info": {
   "codemirror_mode": {
    "name": "ipython",
    "version": 3
   },
   "file_extension": ".py",
   "mimetype": "text/x-python",
   "name": "python",
   "nbconvert_exporter": "python",
   "pygments_lexer": "ipython3",
   "version": "3.12.4"
  }
 },
 "nbformat": 4,
 "nbformat_minor": 4
}
